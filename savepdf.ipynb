{
 "cells": [
  {
   "cell_type": "code",
   "execution_count": null,
   "metadata": {},
   "outputs": [
    {
     "ename": "IndexError",
     "evalue": "index 0 is out of bounds for axis 0 with size 0",
     "output_type": "error",
     "traceback": [
      "\u001b[1;31m---------------------------------------------------------------------------\u001b[0m",
      "\u001b[1;31mIndexError\u001b[0m                                Traceback (most recent call last)",
      "Cell \u001b[1;32mIn[3], line 115\u001b[0m\n\u001b[0;32m    113\u001b[0m csv_file \u001b[38;5;241m=\u001b[39m \u001b[38;5;124mf\u001b[39m\u001b[38;5;124m'\u001b[39m\u001b[38;5;124mPRR/Data_\u001b[39m\u001b[38;5;132;01m{\u001b[39;00mdate\u001b[38;5;132;01m}\u001b[39;00m\u001b[38;5;124m.csv\u001b[39m\u001b[38;5;124m'\u001b[39m\n\u001b[0;32m    114\u001b[0m \u001b[38;5;28;01mif\u001b[39;00m os\u001b[38;5;241m.\u001b[39mpath\u001b[38;5;241m.\u001b[39mexists(csv_file):\n\u001b[1;32m--> 115\u001b[0m     table_img_path \u001b[38;5;241m=\u001b[39m \u001b[43mgenerate_table_image\u001b[49m\u001b[43m(\u001b[49m\u001b[43mcsv_file\u001b[49m\u001b[43m)\u001b[49m\n\u001b[0;32m    116\u001b[0m     add_image_to_pdf(pdf, table_img_path, x\u001b[38;5;241m=\u001b[39mx_table, y\u001b[38;5;241m=\u001b[39my_position, w\u001b[38;5;241m=\u001b[39mimage_width, h\u001b[38;5;241m=\u001b[39mimage_height)\n\u001b[0;32m    117\u001b[0m     os\u001b[38;5;241m.\u001b[39mremove(table_img_path) \n",
      "Cell \u001b[1;32mIn[3], line 25\u001b[0m, in \u001b[0;36mgenerate_table_image\u001b[1;34m(csv_file)\u001b[0m\n\u001b[0;32m     23\u001b[0m ax\u001b[38;5;241m.\u001b[39maxis(\u001b[38;5;124m'\u001b[39m\u001b[38;5;124mtight\u001b[39m\u001b[38;5;124m'\u001b[39m)\n\u001b[0;32m     24\u001b[0m ax\u001b[38;5;241m.\u001b[39maxis(\u001b[38;5;124m'\u001b[39m\u001b[38;5;124moff\u001b[39m\u001b[38;5;124m'\u001b[39m)\n\u001b[1;32m---> 25\u001b[0m \u001b[43max\u001b[49m\u001b[38;5;241;43m.\u001b[39;49m\u001b[43mtable\u001b[49m\u001b[43m(\u001b[49m\u001b[43mcellText\u001b[49m\u001b[38;5;241;43m=\u001b[39;49m\u001b[43mdata\u001b[49m\u001b[38;5;241;43m.\u001b[39;49m\u001b[43mvalues\u001b[49m\u001b[43m,\u001b[49m\u001b[43m \u001b[49m\u001b[43mcolLabels\u001b[49m\u001b[38;5;241;43m=\u001b[39;49m\u001b[43mdata\u001b[49m\u001b[38;5;241;43m.\u001b[39;49m\u001b[43mcolumns\u001b[49m\u001b[43m,\u001b[49m\u001b[43m \u001b[49m\u001b[43mcellLoc\u001b[49m\u001b[38;5;241;43m=\u001b[39;49m\u001b[38;5;124;43m'\u001b[39;49m\u001b[38;5;124;43mcenter\u001b[39;49m\u001b[38;5;124;43m'\u001b[39;49m\u001b[43m,\u001b[49m\u001b[43m \u001b[49m\u001b[43mloc\u001b[49m\u001b[38;5;241;43m=\u001b[39;49m\u001b[38;5;124;43m'\u001b[39;49m\u001b[38;5;124;43mcenter\u001b[39;49m\u001b[38;5;124;43m'\u001b[39;49m\u001b[43m)\u001b[49m\n\u001b[0;32m     26\u001b[0m img_data \u001b[38;5;241m=\u001b[39m io\u001b[38;5;241m.\u001b[39mBytesIO()\n\u001b[0;32m     27\u001b[0m plt\u001b[38;5;241m.\u001b[39msavefig(img_data, \u001b[38;5;28mformat\u001b[39m\u001b[38;5;241m=\u001b[39m\u001b[38;5;124m'\u001b[39m\u001b[38;5;124mpng\u001b[39m\u001b[38;5;124m'\u001b[39m, bbox_inches\u001b[38;5;241m=\u001b[39m\u001b[38;5;124m'\u001b[39m\u001b[38;5;124mtight\u001b[39m\u001b[38;5;124m'\u001b[39m, dpi\u001b[38;5;241m=\u001b[39m\u001b[38;5;241m300\u001b[39m)\n",
      "File \u001b[1;32m~\\AppData\\Local\\Packages\\PythonSoftwareFoundation.Python.3.11_qbz5n2kfra8p0\\LocalCache\\local-packages\\Python311\\site-packages\\matplotlib\\table.py:749\u001b[0m, in \u001b[0;36mtable\u001b[1;34m(ax, cellText, cellColours, cellLoc, colWidths, rowLabels, rowColours, rowLoc, colLabels, colColours, colLoc, loc, bbox, edges, **kwargs)\u001b[0m\n\u001b[0;32m    746\u001b[0m     cellText \u001b[38;5;241m=\u001b[39m [[\u001b[38;5;124m'\u001b[39m\u001b[38;5;124m'\u001b[39m] \u001b[38;5;241m*\u001b[39m cols] \u001b[38;5;241m*\u001b[39m rows\n\u001b[0;32m    748\u001b[0m rows \u001b[38;5;241m=\u001b[39m \u001b[38;5;28mlen\u001b[39m(cellText)\n\u001b[1;32m--> 749\u001b[0m cols \u001b[38;5;241m=\u001b[39m \u001b[38;5;28mlen\u001b[39m(\u001b[43mcellText\u001b[49m\u001b[43m[\u001b[49m\u001b[38;5;241;43m0\u001b[39;49m\u001b[43m]\u001b[49m)\n\u001b[0;32m    750\u001b[0m \u001b[38;5;28;01mfor\u001b[39;00m row \u001b[38;5;129;01min\u001b[39;00m cellText:\n\u001b[0;32m    751\u001b[0m     \u001b[38;5;28;01mif\u001b[39;00m \u001b[38;5;28mlen\u001b[39m(row) \u001b[38;5;241m!=\u001b[39m cols:\n",
      "\u001b[1;31mIndexError\u001b[0m: index 0 is out of bounds for axis 0 with size 0"
     ]
    },
    {
     "data": {
      "image/png": "[encoded data removed]",
      "text/plain": [
       "<Figure size 500x200 with 1 Axes>"
      ]
     },
     "metadata": {},
     "output_type": "display_data"
    }
   ],
   "source": [
    "import re\n",
    "import pytesseract\n",
    "from PIL import Image\n",
    "from fpdf import FPDF\n",
    "import pandas as pd\n",
    "import matplotlib.pyplot as plt\n",
    "import io\n",
    "import os\n",
    "import tempfile\n",
    "import pytesseract\n",
    "from PIL import Image\n",
    "import re\n",
    "import cv2\n",
    "import numpy as np\n",
    "from PIL import Image, ImageEnhance, ImageFilter\n",
    "\n",
    "\n",
    "\n",
    "# Function to generate the table as an image in memory and return a file path\n",
    "def generate_table_image(csv_file):\n",
    "    data = pd.read_csv(csv_file)\n",
    "    fig, ax = plt.subplots(figsize=(5, 2))  # Adjust the figsize for the desired table size\n",
    "    ax.axis('tight')\n",
    "    ax.axis('off')\n",
    "    ax.table(cellText=data.values, colLabels=data.columns, cellLoc='center', loc='center')\n",
    "    img_data = io.BytesIO()\n",
    "    plt.savefig(img_data, format='png', bbox_inches='tight', dpi=300)\n",
    "    plt.close()\n",
    "    img_data.seek(0)\n",
    "    img = Image.open(img_data) \n",
    "    temp_file = tempfile.NamedTemporaryFile(delete=False, suffix='.png')\n",
    "    img.save(temp_file, format='PNG')  \n",
    "    temp_file.close()  \n",
    "    return temp_file.name  \n",
    "\n",
    "# Function to add PNG images to the PDF\n",
    "def add_image_to_pdf(pdf, image_path, x, y, w, h):\n",
    "    pdf.image(image_path, x=x, y=y, w=w, h=h)\n",
    "\n",
    "# Initialize a PDF object\n",
    "pdf = FPDF()\n",
    "\n",
    "# List of dates to process\n",
    "dates = ['2024-09-03', '2024-09-04', '2024-09-05', '2024-09-06', \n",
    "         '2024-09-09', '2024-09-10', '2024-09-11', '2024-09-12', '2024-09-13',\n",
    "         '2024-09-16', '2024-09-17', '2024-09-18', '2024-09-19', '2024-09-20',\n",
    "         '2024-09-23', '2024-09-24', '2024-09-25', '2024-09-26', '2024-09-27',\n",
    "         '2024-09-30', '2024-10-01', '2024-10-02', '2024-10-03', '2024-10-04',\n",
    "         '2024-10-07', '2024-10-08', '2024-10-09', '2024-10-10', '2024-10-11',\n",
    "         '2024-10-14', '2024-10-15', '2024-10-16', '2024-10-17', '2024-10-18',\n",
    "         '2024-10-21', '2024-10-22', '2024-10-23', '2024-10-24', '2024-10-25',\n",
    "         '2024-10-28', '2024-10-29', '2024-10-30', '2024-10-31',\n",
    "         '2024-11-05', '2024-11-06', '2024-11-07', '2024-11-08',\n",
    "         '2024-11-11', '2024-11-12', '2024-11-13', '2024-11-14', '2024-11-15',\n",
    "         '2024-11-18', '2024-11-19', '2024-11-20', '2024-11-21', '2024-11-22',\n",
    "         '2024-11-25', '2024-11-26', '2024-11-27',\n",
    "         ]\n",
    "\n",
    "# Define constants for layout\n",
    "row_height = 50  \n",
    "rows_per_page = 5  \n",
    "row_counter = 0\n",
    "y_position = 10\n",
    "\n",
    "# Variables to store accumulated data\n",
    "total_earnings = 5492.87\n",
    "total_trades = 328\n",
    "total_high = 7191.98\n",
    "total_low = -1438.82\n",
    "entry_count = 56  # To track how many entries are processed for averaging\n",
    "\n",
    "\n",
    "# Calculate averages\n",
    "average_earnings = total_earnings / entry_count if entry_count > 0 else 0\n",
    "average_high = total_high / entry_count if entry_count > 0 else 0\n",
    "average_low = total_low / entry_count if entry_count > 0 else 0\n",
    "average_trades = total_trades / entry_count if entry_count > 0 else 0\n",
    "\n",
    "# Add summary at the top of the PDF\n",
    "\n",
    "pdf.add_page()\n",
    "pdf.set_xy(10, 10)\n",
    "pdf.set_font(\"Arial\", \"B\", 12)\n",
    "pdf.cell(0, 10, \"Summary:\", 0, 1)\n",
    "pdf.set_font(\"Arial\", \"\", 10)\n",
    "pdf.cell(0, 10, f\"Total Earnings: {total_earnings:.2f}\", 0, 1)\n",
    "pdf.cell(0, 10, f\"Total Trades: {total_trades}\", 0, 1)\n",
    "pdf.cell(0, 10, f\"Average Trades: {average_trades}\", 0, 1)\n",
    "pdf.cell(0, 10, f\"Average Earnings: {average_earnings:.2f}\", 0, 1)\n",
    "pdf.cell(0, 10, f\"Average High: {average_high:.2f}\", 0, 1)\n",
    "pdf.cell(0, 10, f\"Average Low: {average_low:.2f}\", 0, 1)\n",
    "\n",
    "# Now continue with the rest of the content\n",
    "for date in dates:\n",
    "    if row_counter % rows_per_page == 0:\n",
    "        pdf.add_page()\n",
    "        y_position = 10\n",
    "\n",
    "    x_image1 = 10    \n",
    "    x_table = 80     \n",
    "    x_image2 = 150   \n",
    "\n",
    "    image_width = 60  \n",
    "    image_height = 40 \n",
    "\n",
    "    # Add the first PNG image from PRR_Tk\n",
    "    image1_path = f'PRR_Tk/Output_{date}.png'\n",
    "    if os.path.exists(image1_path):\n",
    "        add_image_to_pdf(pdf, image1_path, x=x_image1, y=y_position, w=image_width, h=image_height)\n",
    "    else:\n",
    "        print(f\"Image file {image1_path} not found\")\n",
    "    \n",
    "    csv_file = f'PRR/Data_{date}.csv'\n",
    "    if os.path.exists(csv_file):\n",
    "        table_img_path = generate_table_image(csv_file)\n",
    "        add_image_to_pdf(pdf, table_img_path, x=x_table, y=y_position, w=image_width, h=image_height)\n",
    "        os.remove(table_img_path) \n",
    "    else:\n",
    "        print(f\"CSV file {csv_file} not found\")\n",
    "    \n",
    "    image2_path = f'PRR_Graphs/Graph_{date}.png'\n",
    "    if os.path.exists(image2_path):\n",
    "        add_image_to_pdf(pdf, image2_path, x=x_image2, y=y_position, w=image_width, h=image_height)\n",
    "    else:\n",
    "        print(f\"Image file {image2_path} not found\")\n",
    "\n",
    "    y_position += row_height\n",
    "    row_counter += 1\n",
    "\n",
    "# Save the PDF file\n",
    "pdf.output('output5.pdf')\n"
   ]
  },
  {
   "cell_type": "code",
   "execution_count": 31,
   "metadata": {},
   "outputs": [
    {
     "name": "stdout",
     "output_type": "stream",
     "text": [
      "0.2\n"
     ]
    }
   ],
   "source": [
    "def minimum(sample):\n",
    "    \"\"\"Return min of a sample.\"\"\"\n",
    "    N = len(sample)\n",
    "    sample_min = sample[0]\n",
    "    for x in range(N):\n",
    "        if sample_min > sample[x]:\n",
    "            sample_min = sample[x]\n",
    "    \n",
    "    return sample_min\n",
    "\n",
    "print(minimum([7,4,2,10,1,0.2,80]))"
   ]
  },
  {
   "cell_type": "code",
   "execution_count": 37,
   "metadata": {},
   "outputs": [
    {
     "name": "stdout",
     "output_type": "stream",
     "text": [
      "4\n",
      "5\n"
     ]
    }
   ],
   "source": [
    "# Make sure a <= b, if not just swap them around\n",
    "a, b = 4, 5\n",
    "if a > b:\n",
    "    new_a = b\n",
    "    b = a\n",
    "    a = new_a\n",
    "\n",
    "\n",
    "print(a)\n",
    "print(b)"
   ]
  },
  {
   "cell_type": "code",
   "execution_count": 87,
   "metadata": {},
   "outputs": [
    {
     "name": "stdout",
     "output_type": "stream",
     "text": [
      "9.999999999998899e-05\n",
      "Test case 0: pass\n",
      "0\n",
      "Test case 1: pass\n",
      "0\n",
      "Test case 2: pass\n"
     ]
    }
   ],
   "source": [
    "exacts = [1,2,3]\n",
    "approx = [1-0.0001,2,3]\n",
    "\n",
    "\n",
    "for k in range(len(exacts)):\n",
    "    test_eq = exacts[k] - approx[k]\n",
    "    if abs(exacts[k] - approx[k]) < 0.001:\n",
    "        #print(f\"exact {exacts[k]}\")\n",
    "        #print(f\"approx {approx[k]}\")\n",
    "        print(test_eq)\n",
    "        print(f\"Test case {k}: pass\")\n",
    "    else:\n",
    "        print(f\"Test case {k}: fail\")"
   ]
  },
  {
   "cell_type": "code",
   "execution_count": 68,
   "metadata": {},
   "outputs": [
    {
     "name": "stdout",
     "output_type": "stream",
     "text": [
      "Test case 0: pass\n",
      "Test case 1: pass\n",
      "Test case 2: pass\n"
     ]
    }
   ],
   "source": [
    "exacts = [1,2,3]\n",
    "approx = [1.01,2,3]\n",
    "for k in range(len(exacts)):\n",
    "    if exacts[k] - approx[k] < 0.001:\n",
    "        print(f\"Test case {k}: pass\")\n",
    "    else:\n",
    "        print(f\"Test case {k}: fail\")"
   ]
  },
  {
   "cell_type": "code",
   "execution_count": 82,
   "metadata": {},
   "outputs": [
    {
     "name": "stdout",
     "output_type": "stream",
     "text": [
      "(1.419878296146044, -8.643002028397545)\n"
     ]
    }
   ],
   "source": [
    "def line_bestfit_params(xlist, ylist):\n",
    "    \"\"\"Return slope and intercept of best-fit line given x,y data.\n",
    "\n",
    "    Parameters\n",
    "    ----------\n",
    "    xlist : list of numbers\n",
    "      x-coordinates of all data points\n",
    "    ylist : list of numbers\n",
    "      y-coordinates of all data points\n",
    "\n",
    "    Returns\n",
    "    -------\n",
    "    params: two-element tuple\n",
    "      params[0] is the slope and params[1] is the intercept of the best-fit\n",
    "      line.\n",
    "    \"\"\"\n",
    "    n = len(xlist)\n",
    "    Sx = sum(xlist) # FINISH THIS FUNCTION CALL\n",
    "    Sy = sum(ylist) # FINISH THIS FUNCTION CALL\n",
    "    Sxx = sum([x**2 for x in xlist])\n",
    "    Sxy = sum(xlist[i] * ylist[i] for i in range(n))\n",
    "\n",
    "    m = (n*Sxy - Sx*Sy)/(n*Sxx - Sx**2)\n",
    "    b = (Sxx*Sy - Sx*Sxy)/(n*Sxx - Sx**2)\n",
    "    return (m, b)\n",
    "\n",
    "print(line_bestfit_params([6.1,7.6,8.7,10.4],[0,2,4,6]))"
   ]
  }
 ],
 "metadata": {
  "kernelspec": {
   "display_name": "Python 3",
   "language": "python",
   "name": "python3"
  },
  "language_info": {
   "codemirror_mode": {
    "name": "ipython",
    "version": 3
   },
   "file_extension": ".py",
   "mimetype": "text/x-python",
   "name": "python",
   "nbconvert_exporter": "python",
   "pygments_lexer": "ipython3",
   "version": "3.11.9"
  }
 },
 "nbformat": 4,
 "nbformat_minor": 2
}
